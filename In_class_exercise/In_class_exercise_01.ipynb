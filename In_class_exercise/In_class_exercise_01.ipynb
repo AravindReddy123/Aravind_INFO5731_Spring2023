{
  "cells": [
    {
      "cell_type": "markdown",
      "metadata": {
        "id": "view-in-github",
        "colab_type": "text"
      },
      "source": [
        "<a href=\"https://colab.research.google.com/github/AravindReddy123/Aravind_INFO5731_Spring2023/blob/main/In_class_exercise/In_class_exercise_01.ipynb\" target=\"_parent\"><img src=\"https://colab.research.google.com/assets/colab-badge.svg\" alt=\"Open In Colab\"/></a>"
      ]
    },
    {
      "cell_type": "markdown",
      "metadata": {
        "id": "DymRJbxDBCnf"
      },
      "source": [
        "# **The first In-class-exercise (01/24/2023, 40 points in total)**"
      ]
    },
    {
      "cell_type": "markdown",
      "metadata": {
        "id": "03jb4GZsBkBS"
      },
      "source": [
        "(1) Write a Python program to calculate the length of a string. (4 points)"
      ]
    },
    {
      "cell_type": "code",
      "execution_count": 1,
      "metadata": {
        "colab": {
          "base_uri": "https://localhost:8080/"
        },
        "id": "YaGLbSHHB8Ej",
        "outputId": "c6fb78fa-5826-47d7-e282-4f04513f4eb1"
      },
      "outputs": [
        {
          "output_type": "stream",
          "name": "stdout",
          "text": [
            "18\n"
          ]
        }
      ],
      "source": [
        "# write your answer here\n",
        "string = \"Python Programming\"\n",
        "print(len(string))"
      ]
    },
    {
      "cell_type": "markdown",
      "metadata": {
        "id": "jJDe71iLB616"
      },
      "source": [
        "(2) Write a Python program to count the number of characters in a string. (4 points)\n",
        "\n",
        "Sample String : 'google.com‘, \n",
        "\n",
        "Expected Result : {'o': 3, 'g': 2, '.': 1, 'e': 1, 'l': 1, 'm': 1, 'c': 1}"
      ]
    },
    {
      "cell_type": "code",
      "execution_count": 2,
      "metadata": {
        "colab": {
          "base_uri": "https://localhost:8080/"
        },
        "id": "MtKskTzbCLaU",
        "outputId": "a81b2397-f1cf-434d-83eb-6e72efac362c"
      },
      "outputs": [
        {
          "output_type": "stream",
          "name": "stdout",
          "text": [
            "{'o': 3, 'g': 2, 'l': 1, 'e': 1, '.': 1, 'c': 1, 'm': 1}\n"
          ]
        }
      ],
      "source": [
        "# write your answer here\n",
        "string = \"google.com\"\n",
        "d={}\n",
        "for i in range(0,len(string)):\n",
        "    if(string[i] in d):\n",
        "        d[string[i]] = d.get(string[i]) + 1\n",
        "    else:\n",
        "        d[string[i]] = 1\n",
        "sorted_items = sorted(d.items(),key=lambda x:x[1],reverse =True)\n",
        "print(dict(sorted_items))"
      ]
    },
    {
      "cell_type": "markdown",
      "metadata": {
        "id": "55W9AMdXCSpV"
      },
      "source": [
        "(3) Write a Python program to sum all the items in a list. (4 points)"
      ]
    },
    {
      "cell_type": "code",
      "execution_count": 3,
      "metadata": {
        "colab": {
          "base_uri": "https://localhost:8080/"
        },
        "id": "I57NXsauCec2",
        "outputId": "4fcfaf1b-5a16-4ab8-88c1-5567a83b6973"
      },
      "outputs": [
        {
          "output_type": "stream",
          "name": "stdout",
          "text": [
            "15\n"
          ]
        }
      ],
      "source": [
        "# write your answer here\n",
        "sample_list = [1,2,3,4,5]\n",
        "temp_sum = 0\n",
        "for i in range(0,len(sample_list)):\n",
        "    temp_sum = temp_sum + sample_list[i]\n",
        "print(temp_sum)"
      ]
    },
    {
      "cell_type": "markdown",
      "metadata": {
        "id": "4ulBZ6yhCi9F"
      },
      "source": [
        "(4) Write a Python program to get a string from a given string where all occurrences of its first char have been changed to '\\$', except the first char itself. (4 points)\n",
        "\n",
        "Sample String : 'restart‘, \n",
        "\n",
        "Expected Result : 'resta\\$t'"
      ]
    },
    {
      "cell_type": "code",
      "execution_count": 4,
      "metadata": {
        "colab": {
          "base_uri": "https://localhost:8080/"
        },
        "id": "Fj0XhwbBCw2o",
        "outputId": "ff9a52f2-d790-436e-e4b1-310009b26ede"
      },
      "outputs": [
        {
          "output_type": "stream",
          "name": "stdout",
          "text": [
            "resta$$\n"
          ]
        }
      ],
      "source": [
        "# write your answer here\n",
        "string = \"restart\"\n",
        "for i in range(0,len(string)-1):\n",
        "    for j in range(i+1,len(string)):\n",
        "        if(string[i] == string[j]):\n",
        "            string = string[:j] + string[j:].replace(string[i],'$')\n",
        "print(string)"
      ]
    },
    {
      "cell_type": "markdown",
      "metadata": {
        "id": "_bIP7s1MCzue"
      },
      "source": [
        "(5) Write a program with python which could accept two parameter a and b to calculate and output the result of S, where \n",
        "\n",
        "$\\ S=3.14*(1+a/b)^3$ (4 points)\n",
        "\n"
      ]
    },
    {
      "cell_type": "code",
      "execution_count": 5,
      "metadata": {
        "colab": {
          "base_uri": "https://localhost:8080/"
        },
        "id": "w79QilHXD3Mg",
        "outputId": "9931a0b8-14a8-4c2d-c7f7-15532599d22c"
      },
      "outputs": [
        {
          "name": "stdout",
          "output_type": "stream",
          "text": [
            "3\n",
            "2\n"
          ]
        },
        {
          "output_type": "execute_result",
          "data": {
            "text/plain": [
              "49.0625"
            ]
          },
          "metadata": {},
          "execution_count": 5
        }
      ],
      "source": [
        "# write your answer here\n",
        "a = input()\n",
        "a = int(a)\n",
        "\n",
        "b = input()\n",
        "b = int(b)\n",
        "def my_func(a,b):\n",
        "    temp1 = 1 + (a/b)\n",
        "    temp1 = pow(temp1,3)\n",
        "    temp1 = 3.14 * temp1\n",
        "    return temp1\n",
        "\n",
        "my_func(a,b)\n",
        "    "
      ]
    },
    {
      "cell_type": "markdown",
      "metadata": {
        "id": "xCa2bK9aD4Q3"
      },
      "source": [
        "(6) Write a Python program to concatenate following dictionaries to create a new one. (4 points)\n",
        "\n",
        "Sample Dictionary : dic1={1:10, 2:20}, dic2={3:30, 4:40}, dic3={5:50,6:60}, \n",
        "\n",
        "Expected Result : {1: 10, 2: 20, 3: 30, 4: 40, 5: 50, 6: 60}\n"
      ]
    },
    {
      "cell_type": "code",
      "execution_count": 6,
      "metadata": {
        "colab": {
          "base_uri": "https://localhost:8080/"
        },
        "id": "_z4aLqAbEET1",
        "outputId": "c0e5641c-f3c7-427b-9455-007130308d89"
      },
      "outputs": [
        {
          "output_type": "stream",
          "name": "stdout",
          "text": [
            "{'1': 10, '2': 20, '3': 30, '4': 40, '5': 50, '6': 60}\n"
          ]
        }
      ],
      "source": [
        "# write your answer here\n",
        "dic1 = {'1':10,'2':20}\n",
        "dic2 = {'3':30,'4':40}\n",
        "dic3 = {'5':50,'6':60}\n",
        "dic1.update(dic2)\n",
        "dic1.update(dic3)\n",
        "print(dic1)"
      ]
    },
    {
      "cell_type": "markdown",
      "metadata": {
        "id": "0v48Vqa7FrQh"
      },
      "source": [
        "(7) Write a Python program to check whether an element exists within a tuple. (4 points)"
      ]
    },
    {
      "cell_type": "code",
      "execution_count": 7,
      "metadata": {
        "colab": {
          "base_uri": "https://localhost:8080/"
        },
        "id": "7WEmgq-DF2P1",
        "outputId": "0b44b850-39e4-4646-de83-a243cd0fed8c"
      },
      "outputs": [
        {
          "output_type": "stream",
          "name": "stdout",
          "text": [
            "Enter the element to check in tuple\n",
            "5\n",
            "Element exists\n"
          ]
        }
      ],
      "source": [
        "# write your answer here\n",
        "tuple_test = (\"python\",\"medical-diagnosis\",\"AI\",5)\n",
        "print(\"Enter the element to check in tuple\")\n",
        "str= input()\n",
        "bool = False\n",
        "try:\n",
        "    str = int(str)\n",
        "except:\n",
        "    bool = True\n",
        "if(str in tuple_test):\n",
        "    print(\"Element exists\")\n",
        "else:\n",
        "    print(\"Element not in tuple\")"
      ]
    },
    {
      "cell_type": "markdown",
      "metadata": {
        "id": "vD5PYLMuGga_"
      },
      "source": [
        "(8) Write a Python program to find maximum and the minimum value in a set. (4 points)"
      ]
    },
    {
      "cell_type": "code",
      "execution_count": 8,
      "metadata": {
        "colab": {
          "base_uri": "https://localhost:8080/"
        },
        "id": "t0D5kdJUGjjw",
        "outputId": "e16bf105-e667-442b-9ee1-5199e09b4cc4"
      },
      "outputs": [
        {
          "output_type": "stream",
          "name": "stdout",
          "text": [
            "Enter number of elements in a set:4\n",
            "5\n",
            "4\n",
            "3\n",
            "2\n",
            "Maximum elements in the set is 5\n",
            "Minimum element in the set is 2\n"
          ]
        }
      ],
      "source": [
        "# write your answer here\n",
        "list_new = []\n",
        "n = int(input(\"Enter number of elements in a set:\"))\n",
        "for i in range(0,n):\n",
        "    element = int(input())\n",
        "    list_new.append(element)\n",
        "set_new = set(list_new)\n",
        "print(\"Maximum elements in the set is\",max(set_new))\n",
        "print(\"Minimum element in the set is\",min(set_new))"
      ]
    },
    {
      "cell_type": "markdown",
      "metadata": {
        "id": "uHkd-y5VhVWC"
      },
      "source": [
        "(9) Write a Python program to randomly divide the students in this class into six groups for term projects, each group should have at least 4 students but no more than 6 students (including 6). Here is the students list: (4 points)\n",
        "\n",
        "studnet_list = ['ja0964','sa1198','sb1357','vb0218','sc1229','kg0569','kg0470','sg1297','bg0320','fh0141','jl1252','sk1386',\n",
        "           'ak0956','sk1390','sk1458','sk1313','ak0934','vm0377','nm0618','sm1640','sm1907','gn0108','pr0353','dr0609','ms1500','aos0040','ds0814', 'av0659','nv0234','hy0232']"
      ]
    },
    {
      "cell_type": "code",
      "execution_count": 9,
      "metadata": {
        "colab": {
          "base_uri": "https://localhost:8080/"
        },
        "id": "3iGbmcOBhTwy",
        "outputId": "e64ff751-4631-4e6b-da84-e0eadbec99ad"
      },
      "outputs": [
        {
          "output_type": "stream",
          "name": "stdout",
          "text": [
            "[['nv0234', 'sa1198', 'ms1500', 'ja0964', 'kg0470'], ['sc1229', 'gn0108', 'ak0956', 'pr0353', 'aos0040'], ['dr0609', 'vb0218', 'sk1313', 'ds0814', 'sk1390'], ['sb1357', 'jl1252', 'vm0377', 'nm0618', 'sk1458'], ['fh0141', 'sg1297', 'ak0934', 'sk1386', 'bg0320'], ['hy0232', 'sm1907', 'av0659', 'kg0569', 'sm1640']]\n"
          ]
        }
      ],
      "source": [
        "# write your answer here\n",
        "import random\n",
        "studnet_list = ['ja0964','sa1198','sb1357','vb0218','sc1229','kg0569','kg0470','sg1297','bg0320','fh0141','jl1252','sk1386','ak0956','sk1390','sk1458','sk1313','ak0934','vm0377','nm0618','sm1640','sm1907','gn0108','pr0353','dr0609','ms1500','aos0040','ds0814', 'av0659','nv0234','hy0232']\n",
        "random.shuffle(studnet_list)\n",
        "res = []\n",
        "for i in range(0,len(studnet_list),5):\n",
        "    res.append(studnet_list[i:i + 5])\n",
        "print(res)\n"
      ]
    },
    {
      "cell_type": "markdown",
      "metadata": {
        "id": "MYQSEVnZh-NZ"
      },
      "source": [
        "(10) Write a Python program to find the duplicate elements in a given array of integers. Return -1 If there are no such elements. (4 points)"
      ]
    },
    {
      "cell_type": "code",
      "execution_count": 10,
      "metadata": {
        "colab": {
          "base_uri": "https://localhost:8080/"
        },
        "id": "hLOIwjkVh-NZ",
        "outputId": "8b10a900-df33-4f3b-e151-e7928bcda1a6"
      },
      "outputs": [
        {
          "output_type": "stream",
          "name": "stdout",
          "text": [
            "Enter the number of elements3\n",
            "1\n",
            "2\n",
            "3\n",
            "-1\n"
          ]
        }
      ],
      "source": [
        "# write your answer here\n",
        "lst = []\n",
        "dct = {}\n",
        "n = int(input(\"Enter the number of elements\"))\n",
        "for i in range(0,n):\n",
        "    input_ele = int(input())\n",
        "    lst.append(input_ele)\n",
        "for i in range (0,n):\n",
        "    if(lst[i] in dct):\n",
        "        dct[lst[i]] = dct.get(lst[i]) + 1\n",
        "    else:\n",
        "        dct[lst[i]] = 1\n",
        "dict_keys = dct.keys()\n",
        "bool = False\n",
        "for i in dict_keys:\n",
        "    if(dct.get(i)>1):\n",
        "        print(dct.get(i))\n",
        "        bool = True\n",
        "if(bool == False):\n",
        "    print(\"-1\")"
      ]
    },
    {
      "cell_type": "markdown",
      "metadata": {
        "id": "hhNHpVu0h-NZ"
      },
      "source": [
        "(11) Write a Python program to select all the Sundays of a specified year. (4 extra points)"
      ]
    },
    {
      "cell_type": "code",
      "execution_count": 11,
      "metadata": {
        "colab": {
          "base_uri": "https://localhost:8080/"
        },
        "id": "SAc-CvHWh-NZ",
        "outputId": "3af7a1f2-b948-43ae-812a-ce1ab0408fcf"
      },
      "outputs": [
        {
          "output_type": "stream",
          "name": "stdout",
          "text": [
            "2000\n",
            "DatetimeIndex(['2000-01-02', '2000-01-09', '2000-01-16', '2000-01-23',\n",
            "               '2000-01-30', '2000-02-06', '2000-02-13', '2000-02-20',\n",
            "               '2000-02-27', '2000-03-05', '2000-03-12', '2000-03-19',\n",
            "               '2000-03-26', '2000-04-02', '2000-04-09', '2000-04-16',\n",
            "               '2000-04-23', '2000-04-30', '2000-05-07', '2000-05-14',\n",
            "               '2000-05-21', '2000-05-28', '2000-06-04', '2000-06-11',\n",
            "               '2000-06-18', '2000-06-25', '2000-07-02', '2000-07-09',\n",
            "               '2000-07-16', '2000-07-23', '2000-07-30', '2000-08-06',\n",
            "               '2000-08-13', '2000-08-20', '2000-08-27', '2000-09-03',\n",
            "               '2000-09-10', '2000-09-17', '2000-09-24', '2000-10-01',\n",
            "               '2000-10-08', '2000-10-15', '2000-10-22', '2000-10-29',\n",
            "               '2000-11-05', '2000-11-12', '2000-11-19', '2000-11-26',\n",
            "               '2000-12-03', '2000-12-10', '2000-12-17', '2000-12-24'],\n",
            "              dtype='datetime64[ns]', freq='W-SUN')\n"
          ]
        }
      ],
      "source": [
        "# write your answer here\n",
        "import pandas as pd\n",
        "year =input()\n",
        "initial = year + \"-01-01\"\n",
        "periods = 52\n",
        "freq_day = \"W-SUN\"\n",
        "  \n",
        "sundays = pd.date_range(start = initial,\n",
        "                        periods = periods,\n",
        "                        freq = freq_day)                        \n",
        "print(sundays)"
      ]
    }
  ],
  "metadata": {
    "colab": {
      "provenance": [],
      "include_colab_link": true
    },
    "kernelspec": {
      "display_name": "Python 3 (ipykernel)",
      "language": "python",
      "name": "python3"
    },
    "language_info": {
      "codemirror_mode": {
        "name": "ipython",
        "version": 3
      },
      "file_extension": ".py",
      "mimetype": "text/x-python",
      "name": "python",
      "nbconvert_exporter": "python",
      "pygments_lexer": "ipython3",
      "version": "3.9.13"
    }
  },
  "nbformat": 4,
  "nbformat_minor": 0
}